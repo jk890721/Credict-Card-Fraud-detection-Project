{
 "cells": [
  {
   "cell_type": "markdown",
   "metadata": {},
   "source": [
    "https://wellsr.com/python/linear-discriminant-analysis-for-dimensionality-reduction-in-python/#:~:text=To%20apply%20the%20LDA%20algorithm%20to%20your%20feature,data%20reduced%20into%20the%20specified%20number%20of%20dimensions.\n"
   ]
  },
  {
   "cell_type": "code",
   "execution_count": 53,
   "metadata": {},
   "outputs": [],
   "source": [
    "import datetime\n",
    "import numpy as np \n",
    "import pandas as pd \n",
    "import matplotlib.pyplot as plt \n",
    "import seaborn as sns \n",
    "from sklearn.svm import SVC\n",
    "from sklearn.metrics import accuracy_score, confusion_matrix, roc_auc_score\n",
    "from sklearn.preprocessing import LabelEncoder\n",
    "from sklearn.linear_model import LogisticRegression\n",
    "from sklearn.ensemble import RandomForestClassifier\n",
    "from sklearn.model_selection import GridSearchCV\n",
    "from sklearn.discriminant_analysis import LinearDiscriminantAnalysis as LDA\n",
    "from sklearn.preprocessing import StandardScaler\n",
    "from sklearn.neighbors import KNeighborsClassifier as KNN\n"
   ]
  },
  {
   "cell_type": "code",
   "execution_count": 54,
   "metadata": {},
   "outputs": [
    {
     "name": "stderr",
     "output_type": "stream",
     "text": [
      "<>:1: SyntaxWarning: invalid escape sequence '\\S'\n",
      "<>:2: SyntaxWarning: invalid escape sequence '\\S'\n",
      "<>:1: SyntaxWarning: invalid escape sequence '\\S'\n",
      "<>:2: SyntaxWarning: invalid escape sequence '\\S'\n",
      "C:\\Users\\54088\\AppData\\Local\\Temp\\ipykernel_8524\\2030642338.py:1: SyntaxWarning: invalid escape sequence '\\S'\n",
      "  train_df = pd.read_csv(\"D:\\SW\\self-learning\\Python\\Python-Projects/fraudTrain.csv\")\n",
      "C:\\Users\\54088\\AppData\\Local\\Temp\\ipykernel_8524\\2030642338.py:2: SyntaxWarning: invalid escape sequence '\\S'\n",
      "  test_df = pd.read_csv(\"D:\\SW\\self-learning\\Python\\Python-Projects/fraudTest.csv\")\n"
     ]
    },
    {
     "data": {
      "text/html": [
       "<div>\n",
       "<style scoped>\n",
       "    .dataframe tbody tr th:only-of-type {\n",
       "        vertical-align: middle;\n",
       "    }\n",
       "\n",
       "    .dataframe tbody tr th {\n",
       "        vertical-align: top;\n",
       "    }\n",
       "\n",
       "    .dataframe thead th {\n",
       "        text-align: right;\n",
       "    }\n",
       "</style>\n",
       "<table border=\"1\" class=\"dataframe\">\n",
       "  <thead>\n",
       "    <tr style=\"text-align: right;\">\n",
       "      <th></th>\n",
       "      <th>Unnamed: 0</th>\n",
       "      <th>trans_date_trans_time</th>\n",
       "      <th>cc_num</th>\n",
       "      <th>merchant</th>\n",
       "      <th>category</th>\n",
       "      <th>amt</th>\n",
       "      <th>first</th>\n",
       "      <th>last</th>\n",
       "      <th>gender</th>\n",
       "      <th>street</th>\n",
       "      <th>...</th>\n",
       "      <th>lat</th>\n",
       "      <th>long</th>\n",
       "      <th>city_pop</th>\n",
       "      <th>job</th>\n",
       "      <th>dob</th>\n",
       "      <th>trans_num</th>\n",
       "      <th>unix_time</th>\n",
       "      <th>merch_lat</th>\n",
       "      <th>merch_long</th>\n",
       "      <th>is_fraud</th>\n",
       "    </tr>\n",
       "  </thead>\n",
       "  <tbody>\n",
       "    <tr>\n",
       "      <th>0</th>\n",
       "      <td>0</td>\n",
       "      <td>2019-01-01 00:00:18</td>\n",
       "      <td>2703186189652095</td>\n",
       "      <td>fraud_Rippin, Kub and Mann</td>\n",
       "      <td>misc_net</td>\n",
       "      <td>4.97</td>\n",
       "      <td>Jennifer</td>\n",
       "      <td>Banks</td>\n",
       "      <td>F</td>\n",
       "      <td>561 Perry Cove</td>\n",
       "      <td>...</td>\n",
       "      <td>36.0788</td>\n",
       "      <td>-81.1781</td>\n",
       "      <td>3495</td>\n",
       "      <td>Psychologist, counselling</td>\n",
       "      <td>1988-03-09</td>\n",
       "      <td>0b242abb623afc578575680df30655b9</td>\n",
       "      <td>1325376018</td>\n",
       "      <td>36.011293</td>\n",
       "      <td>-82.048315</td>\n",
       "      <td>0</td>\n",
       "    </tr>\n",
       "    <tr>\n",
       "      <th>1</th>\n",
       "      <td>1</td>\n",
       "      <td>2019-01-01 00:00:44</td>\n",
       "      <td>630423337322</td>\n",
       "      <td>fraud_Heller, Gutmann and Zieme</td>\n",
       "      <td>grocery_pos</td>\n",
       "      <td>107.23</td>\n",
       "      <td>Stephanie</td>\n",
       "      <td>Gill</td>\n",
       "      <td>F</td>\n",
       "      <td>43039 Riley Greens Suite 393</td>\n",
       "      <td>...</td>\n",
       "      <td>48.8878</td>\n",
       "      <td>-118.2105</td>\n",
       "      <td>149</td>\n",
       "      <td>Special educational needs teacher</td>\n",
       "      <td>1978-06-21</td>\n",
       "      <td>1f76529f8574734946361c461b024d99</td>\n",
       "      <td>1325376044</td>\n",
       "      <td>49.159047</td>\n",
       "      <td>-118.186462</td>\n",
       "      <td>0</td>\n",
       "    </tr>\n",
       "    <tr>\n",
       "      <th>2</th>\n",
       "      <td>2</td>\n",
       "      <td>2019-01-01 00:00:51</td>\n",
       "      <td>38859492057661</td>\n",
       "      <td>fraud_Lind-Buckridge</td>\n",
       "      <td>entertainment</td>\n",
       "      <td>220.11</td>\n",
       "      <td>Edward</td>\n",
       "      <td>Sanchez</td>\n",
       "      <td>M</td>\n",
       "      <td>594 White Dale Suite 530</td>\n",
       "      <td>...</td>\n",
       "      <td>42.1808</td>\n",
       "      <td>-112.2620</td>\n",
       "      <td>4154</td>\n",
       "      <td>Nature conservation officer</td>\n",
       "      <td>1962-01-19</td>\n",
       "      <td>a1a22d70485983eac12b5b88dad1cf95</td>\n",
       "      <td>1325376051</td>\n",
       "      <td>43.150704</td>\n",
       "      <td>-112.154481</td>\n",
       "      <td>0</td>\n",
       "    </tr>\n",
       "    <tr>\n",
       "      <th>3</th>\n",
       "      <td>3</td>\n",
       "      <td>2019-01-01 00:01:16</td>\n",
       "      <td>3534093764340240</td>\n",
       "      <td>fraud_Kutch, Hermiston and Farrell</td>\n",
       "      <td>gas_transport</td>\n",
       "      <td>45.00</td>\n",
       "      <td>Jeremy</td>\n",
       "      <td>White</td>\n",
       "      <td>M</td>\n",
       "      <td>9443 Cynthia Court Apt. 038</td>\n",
       "      <td>...</td>\n",
       "      <td>46.2306</td>\n",
       "      <td>-112.1138</td>\n",
       "      <td>1939</td>\n",
       "      <td>Patent attorney</td>\n",
       "      <td>1967-01-12</td>\n",
       "      <td>6b849c168bdad6f867558c3793159a81</td>\n",
       "      <td>1325376076</td>\n",
       "      <td>47.034331</td>\n",
       "      <td>-112.561071</td>\n",
       "      <td>0</td>\n",
       "    </tr>\n",
       "    <tr>\n",
       "      <th>4</th>\n",
       "      <td>4</td>\n",
       "      <td>2019-01-01 00:03:06</td>\n",
       "      <td>375534208663984</td>\n",
       "      <td>fraud_Keeling-Crist</td>\n",
       "      <td>misc_pos</td>\n",
       "      <td>41.96</td>\n",
       "      <td>Tyler</td>\n",
       "      <td>Garcia</td>\n",
       "      <td>M</td>\n",
       "      <td>408 Bradley Rest</td>\n",
       "      <td>...</td>\n",
       "      <td>38.4207</td>\n",
       "      <td>-79.4629</td>\n",
       "      <td>99</td>\n",
       "      <td>Dance movement psychotherapist</td>\n",
       "      <td>1986-03-28</td>\n",
       "      <td>a41d7549acf90789359a9aa5346dcb46</td>\n",
       "      <td>1325376186</td>\n",
       "      <td>38.674999</td>\n",
       "      <td>-78.632459</td>\n",
       "      <td>0</td>\n",
       "    </tr>\n",
       "  </tbody>\n",
       "</table>\n",
       "<p>5 rows × 23 columns</p>\n",
       "</div>"
      ],
      "text/plain": [
       "   Unnamed: 0 trans_date_trans_time            cc_num  \\\n",
       "0           0   2019-01-01 00:00:18  2703186189652095   \n",
       "1           1   2019-01-01 00:00:44      630423337322   \n",
       "2           2   2019-01-01 00:00:51    38859492057661   \n",
       "3           3   2019-01-01 00:01:16  3534093764340240   \n",
       "4           4   2019-01-01 00:03:06   375534208663984   \n",
       "\n",
       "                             merchant       category     amt      first  \\\n",
       "0          fraud_Rippin, Kub and Mann       misc_net    4.97   Jennifer   \n",
       "1     fraud_Heller, Gutmann and Zieme    grocery_pos  107.23  Stephanie   \n",
       "2                fraud_Lind-Buckridge  entertainment  220.11     Edward   \n",
       "3  fraud_Kutch, Hermiston and Farrell  gas_transport   45.00     Jeremy   \n",
       "4                 fraud_Keeling-Crist       misc_pos   41.96      Tyler   \n",
       "\n",
       "      last gender                        street  ...      lat      long  \\\n",
       "0    Banks      F                561 Perry Cove  ...  36.0788  -81.1781   \n",
       "1     Gill      F  43039 Riley Greens Suite 393  ...  48.8878 -118.2105   \n",
       "2  Sanchez      M      594 White Dale Suite 530  ...  42.1808 -112.2620   \n",
       "3    White      M   9443 Cynthia Court Apt. 038  ...  46.2306 -112.1138   \n",
       "4   Garcia      M              408 Bradley Rest  ...  38.4207  -79.4629   \n",
       "\n",
       "   city_pop                                job         dob  \\\n",
       "0      3495          Psychologist, counselling  1988-03-09   \n",
       "1       149  Special educational needs teacher  1978-06-21   \n",
       "2      4154        Nature conservation officer  1962-01-19   \n",
       "3      1939                    Patent attorney  1967-01-12   \n",
       "4        99     Dance movement psychotherapist  1986-03-28   \n",
       "\n",
       "                          trans_num   unix_time  merch_lat  merch_long  \\\n",
       "0  0b242abb623afc578575680df30655b9  1325376018  36.011293  -82.048315   \n",
       "1  1f76529f8574734946361c461b024d99  1325376044  49.159047 -118.186462   \n",
       "2  a1a22d70485983eac12b5b88dad1cf95  1325376051  43.150704 -112.154481   \n",
       "3  6b849c168bdad6f867558c3793159a81  1325376076  47.034331 -112.561071   \n",
       "4  a41d7549acf90789359a9aa5346dcb46  1325376186  38.674999  -78.632459   \n",
       "\n",
       "   is_fraud  \n",
       "0         0  \n",
       "1         0  \n",
       "2         0  \n",
       "3         0  \n",
       "4         0  \n",
       "\n",
       "[5 rows x 23 columns]"
      ]
     },
     "execution_count": 54,
     "metadata": {},
     "output_type": "execute_result"
    }
   ],
   "source": [
    "train_df = pd.read_csv(\"D:\\SW\\self-learning\\Python\\Python-Projects/fraudTrain.csv\")\n",
    "test_df = pd.read_csv(\"D:\\SW\\self-learning\\Python\\Python-Projects/fraudTest.csv\")\n",
    "\n",
    "train_df.head()\n"
   ]
  },
  {
   "cell_type": "code",
   "execution_count": 55,
   "metadata": {},
   "outputs": [
    {
     "data": {
      "text/html": [
       "<div>\n",
       "<style scoped>\n",
       "    .dataframe tbody tr th:only-of-type {\n",
       "        vertical-align: middle;\n",
       "    }\n",
       "\n",
       "    .dataframe tbody tr th {\n",
       "        vertical-align: top;\n",
       "    }\n",
       "\n",
       "    .dataframe thead th {\n",
       "        text-align: right;\n",
       "    }\n",
       "</style>\n",
       "<table border=\"1\" class=\"dataframe\">\n",
       "  <thead>\n",
       "    <tr style=\"text-align: right;\">\n",
       "      <th></th>\n",
       "      <th>merchant</th>\n",
       "      <th>amt</th>\n",
       "      <th>gender</th>\n",
       "      <th>state</th>\n",
       "      <th>long</th>\n",
       "      <th>city_pop</th>\n",
       "      <th>job</th>\n",
       "      <th>unix_time</th>\n",
       "      <th>merch_lat</th>\n",
       "      <th>merch_long</th>\n",
       "      <th>is_fraud</th>\n",
       "    </tr>\n",
       "  </thead>\n",
       "  <tbody>\n",
       "    <tr>\n",
       "      <th>0</th>\n",
       "      <td>fraud_Kirlin and Sons</td>\n",
       "      <td>2.86</td>\n",
       "      <td>M</td>\n",
       "      <td>SC</td>\n",
       "      <td>-80.9355</td>\n",
       "      <td>333497</td>\n",
       "      <td>Mechanical engineer</td>\n",
       "      <td>1371816865</td>\n",
       "      <td>33.986391</td>\n",
       "      <td>-81.200714</td>\n",
       "      <td>0</td>\n",
       "    </tr>\n",
       "    <tr>\n",
       "      <th>1</th>\n",
       "      <td>fraud_Sporer-Keebler</td>\n",
       "      <td>29.84</td>\n",
       "      <td>F</td>\n",
       "      <td>UT</td>\n",
       "      <td>-110.4360</td>\n",
       "      <td>302</td>\n",
       "      <td>Sales professional, IT</td>\n",
       "      <td>1371816873</td>\n",
       "      <td>39.450498</td>\n",
       "      <td>-109.960431</td>\n",
       "      <td>0</td>\n",
       "    </tr>\n",
       "    <tr>\n",
       "      <th>2</th>\n",
       "      <td>fraud_Swaniawski, Nitzsche and Welch</td>\n",
       "      <td>41.28</td>\n",
       "      <td>F</td>\n",
       "      <td>NY</td>\n",
       "      <td>-73.5365</td>\n",
       "      <td>34496</td>\n",
       "      <td>Librarian, public</td>\n",
       "      <td>1371816893</td>\n",
       "      <td>40.495810</td>\n",
       "      <td>-74.196111</td>\n",
       "      <td>0</td>\n",
       "    </tr>\n",
       "    <tr>\n",
       "      <th>3</th>\n",
       "      <td>fraud_Haley Group</td>\n",
       "      <td>60.05</td>\n",
       "      <td>M</td>\n",
       "      <td>FL</td>\n",
       "      <td>-80.8191</td>\n",
       "      <td>54767</td>\n",
       "      <td>Set designer</td>\n",
       "      <td>1371816915</td>\n",
       "      <td>28.812398</td>\n",
       "      <td>-80.883061</td>\n",
       "      <td>0</td>\n",
       "    </tr>\n",
       "    <tr>\n",
       "      <th>4</th>\n",
       "      <td>fraud_Johnston-Casper</td>\n",
       "      <td>3.19</td>\n",
       "      <td>M</td>\n",
       "      <td>MI</td>\n",
       "      <td>-85.0170</td>\n",
       "      <td>1126</td>\n",
       "      <td>Furniture designer</td>\n",
       "      <td>1371816917</td>\n",
       "      <td>44.959148</td>\n",
       "      <td>-85.884734</td>\n",
       "      <td>0</td>\n",
       "    </tr>\n",
       "    <tr>\n",
       "      <th>...</th>\n",
       "      <td>...</td>\n",
       "      <td>...</td>\n",
       "      <td>...</td>\n",
       "      <td>...</td>\n",
       "      <td>...</td>\n",
       "      <td>...</td>\n",
       "      <td>...</td>\n",
       "      <td>...</td>\n",
       "      <td>...</td>\n",
       "      <td>...</td>\n",
       "      <td>...</td>\n",
       "    </tr>\n",
       "    <tr>\n",
       "      <th>555714</th>\n",
       "      <td>fraud_Reilly and Sons</td>\n",
       "      <td>43.77</td>\n",
       "      <td>M</td>\n",
       "      <td>MO</td>\n",
       "      <td>-91.8912</td>\n",
       "      <td>519</td>\n",
       "      <td>Town planner</td>\n",
       "      <td>1388534347</td>\n",
       "      <td>39.946837</td>\n",
       "      <td>-91.333331</td>\n",
       "      <td>0</td>\n",
       "    </tr>\n",
       "    <tr>\n",
       "      <th>555715</th>\n",
       "      <td>fraud_Hoppe-Parisian</td>\n",
       "      <td>111.84</td>\n",
       "      <td>M</td>\n",
       "      <td>TX</td>\n",
       "      <td>-95.4401</td>\n",
       "      <td>28739</td>\n",
       "      <td>Futures trader</td>\n",
       "      <td>1388534349</td>\n",
       "      <td>29.661049</td>\n",
       "      <td>-96.186633</td>\n",
       "      <td>0</td>\n",
       "    </tr>\n",
       "    <tr>\n",
       "      <th>555716</th>\n",
       "      <td>fraud_Rau-Robel</td>\n",
       "      <td>86.88</td>\n",
       "      <td>F</td>\n",
       "      <td>WA</td>\n",
       "      <td>-118.9017</td>\n",
       "      <td>3684</td>\n",
       "      <td>Musician</td>\n",
       "      <td>1388534355</td>\n",
       "      <td>46.658340</td>\n",
       "      <td>-119.715054</td>\n",
       "      <td>0</td>\n",
       "    </tr>\n",
       "    <tr>\n",
       "      <th>555717</th>\n",
       "      <td>fraud_Breitenberg LLC</td>\n",
       "      <td>7.99</td>\n",
       "      <td>M</td>\n",
       "      <td>ID</td>\n",
       "      <td>-116.4493</td>\n",
       "      <td>129</td>\n",
       "      <td>Cartographer</td>\n",
       "      <td>1388534364</td>\n",
       "      <td>44.470525</td>\n",
       "      <td>-117.080888</td>\n",
       "      <td>0</td>\n",
       "    </tr>\n",
       "    <tr>\n",
       "      <th>555718</th>\n",
       "      <td>fraud_Dare-Marvin</td>\n",
       "      <td>38.13</td>\n",
       "      <td>M</td>\n",
       "      <td>OK</td>\n",
       "      <td>-97.4798</td>\n",
       "      <td>116001</td>\n",
       "      <td>Media buyer</td>\n",
       "      <td>1388534374</td>\n",
       "      <td>36.210097</td>\n",
       "      <td>-97.036372</td>\n",
       "      <td>0</td>\n",
       "    </tr>\n",
       "  </tbody>\n",
       "</table>\n",
       "<p>555719 rows × 11 columns</p>\n",
       "</div>"
      ],
      "text/plain": [
       "                                    merchant     amt gender state      long  \\\n",
       "0                      fraud_Kirlin and Sons    2.86      M    SC  -80.9355   \n",
       "1                       fraud_Sporer-Keebler   29.84      F    UT -110.4360   \n",
       "2       fraud_Swaniawski, Nitzsche and Welch   41.28      F    NY  -73.5365   \n",
       "3                          fraud_Haley Group   60.05      M    FL  -80.8191   \n",
       "4                      fraud_Johnston-Casper    3.19      M    MI  -85.0170   \n",
       "...                                      ...     ...    ...   ...       ...   \n",
       "555714                 fraud_Reilly and Sons   43.77      M    MO  -91.8912   \n",
       "555715                  fraud_Hoppe-Parisian  111.84      M    TX  -95.4401   \n",
       "555716                       fraud_Rau-Robel   86.88      F    WA -118.9017   \n",
       "555717                 fraud_Breitenberg LLC    7.99      M    ID -116.4493   \n",
       "555718                     fraud_Dare-Marvin   38.13      M    OK  -97.4798   \n",
       "\n",
       "        city_pop                     job   unix_time  merch_lat  merch_long  \\\n",
       "0         333497     Mechanical engineer  1371816865  33.986391  -81.200714   \n",
       "1            302  Sales professional, IT  1371816873  39.450498 -109.960431   \n",
       "2          34496       Librarian, public  1371816893  40.495810  -74.196111   \n",
       "3          54767            Set designer  1371816915  28.812398  -80.883061   \n",
       "4           1126      Furniture designer  1371816917  44.959148  -85.884734   \n",
       "...          ...                     ...         ...        ...         ...   \n",
       "555714       519            Town planner  1388534347  39.946837  -91.333331   \n",
       "555715     28739          Futures trader  1388534349  29.661049  -96.186633   \n",
       "555716      3684                Musician  1388534355  46.658340 -119.715054   \n",
       "555717       129            Cartographer  1388534364  44.470525 -117.080888   \n",
       "555718    116001             Media buyer  1388534374  36.210097  -97.036372   \n",
       "\n",
       "        is_fraud  \n",
       "0              0  \n",
       "1              0  \n",
       "2              0  \n",
       "3              0  \n",
       "4              0  \n",
       "...          ...  \n",
       "555714         0  \n",
       "555715         0  \n",
       "555716         0  \n",
       "555717         0  \n",
       "555718         0  \n",
       "\n",
       "[555719 rows x 11 columns]"
      ]
     },
     "execution_count": 55,
     "metadata": {},
     "output_type": "execute_result"
    }
   ],
   "source": [
    "train_df.drop([\"trans_date_trans_time\", \"Unnamed: 0\", \"cc_num\", \"category\", \"city\", \"first\", \"last\", \"street\", \"zip\", \"dob\", \"lat\", \"trans_num\"], axis = 1, inplace = True)\n",
    "test_df.drop([\"trans_date_trans_time\", \"Unnamed: 0\", \"cc_num\", \"category\", \"city\", \"first\", \"last\", \"street\", \"zip\", \"dob\", \"lat\", \"trans_num\"], axis = 1, inplace = True)\n",
    "\n",
    "train_df.dropna()\n",
    "test_df.dropna()\n"
   ]
  },
  {
   "cell_type": "code",
   "execution_count": 56,
   "metadata": {},
   "outputs": [],
   "source": [
    "le = LabelEncoder()\n",
    "train_df[\"merchant\"] = le.fit_transform(train_df[\"merchant\"])\n",
    "train_df[\"gender\"] = le.fit_transform(train_df[\"gender\"])\n",
    "train_df[\"state\"] = le.fit_transform(train_df[\"state\"])\n",
    "train_df[\"job\"] = le.fit_transform(train_df[\"job\"])\n",
    "\n",
    "test_df[\"merchant\"] = le.fit_transform(test_df[\"merchant\"])\n",
    "test_df[\"gender\"] = le.fit_transform(test_df[\"gender\"])\n",
    "test_df[\"state\"] = le.fit_transform(test_df[\"state\"])\n",
    "test_df[\"job\"] = le.fit_transform(test_df[\"job\"])\n"
   ]
  },
  {
   "cell_type": "markdown",
   "metadata": {},
   "source": [
    "Train Data pie plot "
   ]
  },
  {
   "cell_type": "code",
   "execution_count": 57,
   "metadata": {},
   "outputs": [
    {
     "name": "stdout",
     "output_type": "stream",
     "text": [
      "is_fraud\n",
      "0    1289169\n",
      "1       7506\n",
      "Name: count, dtype: int64\n"
     ]
    },
    {
     "data": {
      "text/plain": [
       "<Axes: ylabel='Type'>"
      ]
     },
     "execution_count": 57,
     "metadata": {},
     "output_type": "execute_result"
    },
    {
     "data": {
      "image/png": "[encoded data removed]",
      "text/plain": [
       "<Figure size 640x480 with 1 Axes>"
      ]
     },
     "metadata": {},
     "output_type": "display_data"
    }
   ],
   "source": [
    "train_is_fraud = train_df[train_df[\"is_fraud\"] == 1]\n",
    "train_not_fraud = train_df[train_df[\"is_fraud\"] == 0]\n",
    "\n",
    "print(train_df[\"is_fraud\"].value_counts())\n",
    "\n",
    "train_df.groupby('is_fraud').size().plot(kind = \"pie\", \n",
    "                                         y = \"is_fraud\", \n",
    "                                         label = \"Type\", \n",
    "                                         autopct = '%1.1f%%')"
   ]
  },
  {
   "cell_type": "markdown",
   "metadata": {},
   "source": [
    "Test Data pie plot"
   ]
  },
  {
   "cell_type": "code",
   "execution_count": 58,
   "metadata": {},
   "outputs": [
    {
     "name": "stdout",
     "output_type": "stream",
     "text": [
      "is_fraud\n",
      "0    553574\n",
      "1      2145\n",
      "Name: count, dtype: int64\n"
     ]
    },
    {
     "data": {
      "text/plain": [
       "<Axes: ylabel='Type'>"
      ]
     },
     "execution_count": 58,
     "metadata": {},
     "output_type": "execute_result"
    },
    {
     "data": {
      "image/png": "[encoded data removed]",
      "text/plain": [
       "<Figure size 640x480 with 1 Axes>"
      ]
     },
     "metadata": {},
     "output_type": "display_data"
    }
   ],
   "source": [
    "test_is_fraud = test_df[test_df[\"is_fraud\"] == 1]\n",
    "test_not_fraud = test_df[test_df[\"is_fraud\"] == 0]\n",
    "\n",
    "print(test_df[\"is_fraud\"].value_counts())\n",
    "\n",
    "test_df.groupby('is_fraud').size().plot(kind = \"pie\", \n",
    "                                         y = \"is_fraud\", \n",
    "                                         label = \"Type\", \n",
    "                                         autopct = '%1.1f%%')"
   ]
  },
  {
   "cell_type": "markdown",
   "metadata": {},
   "source": [
    "Resampling training data to 1:1"
   ]
  },
  {
   "cell_type": "code",
   "execution_count": 59,
   "metadata": {},
   "outputs": [
    {
     "name": "stdout",
     "output_type": "stream",
     "text": [
      "is_fraud\n",
      "0    7506\n",
      "1    7506\n",
      "Name: count, dtype: int64\n"
     ]
    },
    {
     "data": {
      "text/plain": [
       "<Axes: ylabel='Type'>"
      ]
     },
     "execution_count": 59,
     "metadata": {},
     "output_type": "execute_result"
    },
    {
     "data": {
      "image/png": "[encoded data removed]",
      "text/plain": [
       "<Figure size 640x480 with 1 Axes>"
      ]
     },
     "metadata": {},
     "output_type": "display_data"
    }
   ],
   "source": [
    "from sklearn.utils import resample\n",
    "train_not_fraud_downsample_1 = resample(train_not_fraud, \n",
    "                               replace = True, \n",
    "                               n_samples = len(train_is_fraud), \n",
    "                               random_state = 42)\n",
    "\n",
    "balanced_train_df_1 = pd.concat([train_not_fraud_downsample_1, train_is_fraud])\n",
    "\n",
    "print(balanced_train_df_1[\"is_fraud\"].value_counts())\n",
    "\n",
    "balanced_train_df_1.groupby('is_fraud').size().plot(kind = \"pie\", \n",
    "                                         y = \"is_fraud\", \n",
    "                                         label = \"Type\", \n",
    "                                         autopct = '%1.1f%%')\n"
   ]
  },
  {
   "cell_type": "markdown",
   "metadata": {},
   "source": [
    "Resampling testing data"
   ]
  },
  {
   "cell_type": "code",
   "execution_count": 60,
   "metadata": {},
   "outputs": [
    {
     "name": "stdout",
     "output_type": "stream",
     "text": [
      "is_fraud\n",
      "0    2145\n",
      "1    2145\n",
      "Name: count, dtype: int64\n"
     ]
    },
    {
     "data": {
      "text/plain": [
       "<Axes: ylabel='Type'>"
      ]
     },
     "execution_count": 60,
     "metadata": {},
     "output_type": "execute_result"
    },
    {
     "data": {
      "image/png": "[encoded data removed]",
      "text/plain": [
       "<Figure size 640x480 with 1 Axes>"
      ]
     },
     "metadata": {},
     "output_type": "display_data"
    }
   ],
   "source": [
    "test_not_fraud_downsample_1 = resample(test_not_fraud, \n",
    "                               replace = True, \n",
    "                               n_samples = len(test_is_fraud), \n",
    "                               random_state = 42)\n",
    "\n",
    "balanced_test_df_1 = pd.concat([test_not_fraud_downsample_1, test_is_fraud])\n",
    "\n",
    "print(balanced_test_df_1[\"is_fraud\"].value_counts())\n",
    "\n",
    "balanced_test_df_1.groupby('is_fraud').size().plot(kind = \"pie\", \n",
    "                                         y = \"is_fraud\", \n",
    "                                         label = \"Type\", \n",
    "                                         autopct = '%1.1f%%')"
   ]
  },
  {
   "cell_type": "code",
   "execution_count": 61,
   "metadata": {},
   "outputs": [],
   "source": [
    "train_x = balanced_train_df_1.drop([\"is_fraud\"], axis = 1)\n",
    "train_y = balanced_train_df_1[\"is_fraud\"]\n",
    "\n",
    "test_x = balanced_test_df_1.drop([\"is_fraud\"], axis = 1)\n",
    "test_y = balanced_test_df_1[\"is_fraud\"]\n"
   ]
  },
  {
   "cell_type": "code",
   "execution_count": 62,
   "metadata": {},
   "outputs": [],
   "source": [
    "sc = StandardScaler()\n",
    "sc_X_train = sc.fit_transform(train_x)\n",
    "sc_X_test = sc.transform(test_x)\n",
    "\n",
    "lda = LDA(n_components = 1)\n",
    "X_train_lda = lda.fit_transform(sc_X_train, train_y)\n",
    "X_test_lda = lda.transform(sc_X_test)"
   ]
  },
  {
   "cell_type": "markdown",
   "metadata": {},
   "source": [
    "Logistic Regression Model Fitting"
   ]
  },
  {
   "cell_type": "code",
   "execution_count": 63,
   "metadata": {},
   "outputs": [
    {
     "name": "stdout",
     "output_type": "stream",
     "text": [
      "Accuracy of logistic regression classifier on test set: 0.85897\n",
      "Confusion matrix:\n",
      "[[2090   55]\n",
      " [ 550 1595]]\n",
      "ROC-AUC score:\n",
      "0.8589743589743589\n"
     ]
    },
    {
     "data": {
      "image/png": "[encoded data removed]",
      "text/plain": [
       "<Figure size 400x400 with 1 Axes>"
      ]
     },
     "metadata": {},
     "output_type": "display_data"
    }
   ],
   "source": [
    "# Build the Logistic Regression model\n",
    "logreg = LogisticRegression()\n",
    "\n",
    "# Fitting the data\n",
    "logreg.fit(sc_X_train, train_y)\n",
    "\n",
    "# Predict the data\n",
    "y_pred = logreg.predict(sc_X_test)\n",
    "accuracy = accuracy_score(test_y, y_pred)\n",
    "conf_matrix = confusion_matrix(test_y, y_pred)\n",
    "auc_roc = roc_auc_score(test_y, y_pred)\n",
    "\n",
    "# Print the result\n",
    "print('Accuracy of logistic regression classifier on test set: {:.5f}'.format(accuracy))\n",
    "print('Confusion matrix:')\n",
    "print(conf_matrix)\n",
    "print('ROC-AUC score:')\n",
    "print(auc_roc)\n",
    "\n",
    "# Confusion matrix\n",
    "plt.figure(figsize=(4, 4))\n",
    "sns.heatmap(conf_matrix, annot=True, fmt=\"d\", cmap=\"Blues\", cbar=False, \n",
    "            annot_kws={\"fontsize\": 14}, linewidths=0.5, linecolor=\"black\")\n",
    "plt.title(\"Confusion Matrix\", fontsize=16)\n",
    "plt.xlabel(\"Predicted Labels\", fontsize=14)\n",
    "plt.ylabel(\"True Labels\", fontsize=14)\n",
    "plt.xticks(ticks=[0.5, 1.5], labels=[\"Not Fraud\", \"Fraud\"], fontsize=12)\n",
    "plt.yticks(ticks=[0.5, 1.5], labels=[\"Not Fraud\", \"Fraud\"], fontsize=12)\n",
    "plt.show()"
   ]
  },
  {
   "cell_type": "markdown",
   "metadata": {},
   "source": [
    "Resampling training data to 1:2 (is_fraud : not_fraud)"
   ]
  },
  {
   "cell_type": "code",
   "execution_count": 64,
   "metadata": {},
   "outputs": [
    {
     "name": "stdout",
     "output_type": "stream",
     "text": [
      "is_fraud\n",
      "0    15012\n",
      "1     7506\n",
      "Name: count, dtype: int64\n"
     ]
    },
    {
     "data": {
      "text/plain": [
       "<Axes: ylabel='Type'>"
      ]
     },
     "execution_count": 64,
     "metadata": {},
     "output_type": "execute_result"
    },
    {
     "data": {
      "image/png": "[encoded data removed]",
      "text/plain": [
       "<Figure size 640x480 with 1 Axes>"
      ]
     },
     "metadata": {},
     "output_type": "display_data"
    }
   ],
   "source": [
    "train_not_fraud_downsample_2 = resample(train_not_fraud, \n",
    "                               replace = True, \n",
    "                               n_samples = len(train_is_fraud) * 2, \n",
    "                               random_state = 42)\n",
    "\n",
    "balanced_train_df_2 = pd.concat([train_not_fraud_downsample_2, train_is_fraud])\n",
    "\n",
    "print(balanced_train_df_2[\"is_fraud\"].value_counts())\n",
    "\n",
    "balanced_train_df_2.groupby('is_fraud').size().plot(kind = \"pie\", \n",
    "                                         y = \"is_fraud\", \n",
    "                                         label = \"Type\", \n",
    "                                         autopct = '%1.1f%%')"
   ]
  },
  {
   "cell_type": "markdown",
   "metadata": {},
   "source": [
    "Testing data"
   ]
  },
  {
   "cell_type": "code",
   "execution_count": 65,
   "metadata": {},
   "outputs": [
    {
     "name": "stdout",
     "output_type": "stream",
     "text": [
      "is_fraud\n",
      "0    4290\n",
      "1    2145\n",
      "Name: count, dtype: int64\n"
     ]
    },
    {
     "data": {
      "text/plain": [
       "<Axes: ylabel='Type'>"
      ]
     },
     "execution_count": 65,
     "metadata": {},
     "output_type": "execute_result"
    },
    {
     "data": {
      "image/png": "[encoded data removed]",
      "text/plain": [
       "<Figure size 640x480 with 1 Axes>"
      ]
     },
     "metadata": {},
     "output_type": "display_data"
    }
   ],
   "source": [
    "test_not_fraud_downsample_2 = resample(test_not_fraud, \n",
    "                               replace = True, \n",
    "                               n_samples = len(test_is_fraud) * 2, \n",
    "                               random_state = 42)\n",
    "\n",
    "balanced_test_df_2 = pd.concat([test_not_fraud_downsample_2, test_is_fraud])\n",
    "\n",
    "print(balanced_test_df_2[\"is_fraud\"].value_counts())\n",
    "\n",
    "balanced_test_df_2.groupby('is_fraud').size().plot(kind = \"pie\", \n",
    "                                         y = \"is_fraud\", \n",
    "                                         label = \"Type\", \n",
    "                                         autopct = '%1.1f%%')"
   ]
  },
  {
   "cell_type": "code",
   "execution_count": 66,
   "metadata": {},
   "outputs": [],
   "source": [
    "train_x = balanced_train_df_2.drop([\"is_fraud\"], axis = 1)\n",
    "train_y = balanced_train_df_2[\"is_fraud\"]\n",
    "\n",
    "test_x = balanced_test_df_2.drop([\"is_fraud\"], axis = 1)\n",
    "test_y = balanced_test_df_2[\"is_fraud\"]"
   ]
  },
  {
   "cell_type": "code",
   "execution_count": 67,
   "metadata": {},
   "outputs": [],
   "source": [
    "sc = StandardScaler()\n",
    "sc_X_train = sc.fit_transform(train_x)\n",
    "sc_X_test = sc.transform(test_x)\n",
    "\n",
    "lda = LDA(n_components = 1)\n",
    "X_train_lda = lda.fit_transform(sc_X_train, train_y)\n",
    "X_test_lda = lda.transform(sc_X_test)"
   ]
  },
  {
   "cell_type": "markdown",
   "metadata": {},
   "source": [
    "LOGISTIC MODEL"
   ]
  },
  {
   "cell_type": "code",
   "execution_count": 68,
   "metadata": {},
   "outputs": [
    {
     "name": "stdout",
     "output_type": "stream",
     "text": [
      "Accuracy of logistic regression classifier on test set: 0.86573\n",
      "Confusion matrix:\n",
      "[[4226   64]\n",
      " [ 800 1345]]\n",
      "ROC-AUC score:\n",
      "0.806060606060606\n"
     ]
    },
    {
     "data": {
      "image/png": "[encoded data removed]",
      "text/plain": [
       "<Figure size 400x400 with 1 Axes>"
      ]
     },
     "metadata": {},
     "output_type": "display_data"
    }
   ],
   "source": [
    "# Build the Logistic Regression model\n",
    "logreg = LogisticRegression()\n",
    "\n",
    "# Fitting the data\n",
    "logreg.fit(sc_X_train, train_y)\n",
    "\n",
    "# Predict the data\n",
    "y_pred = logreg.predict(sc_X_test)\n",
    "accuracy = accuracy_score(test_y, y_pred)\n",
    "conf_matrix = confusion_matrix(test_y, y_pred)\n",
    "auc_roc = roc_auc_score(test_y, y_pred)\n",
    "\n",
    "# Print the result\n",
    "print('Accuracy of logistic regression classifier on test set: {:.5f}'.format(accuracy))\n",
    "print('Confusion matrix:')\n",
    "print(conf_matrix)\n",
    "print('ROC-AUC score:')\n",
    "print(auc_roc)\n",
    "\n",
    "# Confusion matrix\n",
    "plt.figure(figsize=(4, 4))\n",
    "sns.heatmap(conf_matrix, annot=True, fmt=\"d\", cmap=\"Blues\", cbar=False, \n",
    "            annot_kws={\"fontsize\": 14}, linewidths=0.5, linecolor=\"black\")\n",
    "plt.title(\"Confusion Matrix\", fontsize=16)\n",
    "plt.xlabel(\"Predicted Labels\", fontsize=14)\n",
    "plt.ylabel(\"True Labels\", fontsize=14)\n",
    "plt.xticks(ticks=[0.5, 1.5], labels=[\"Not Fraud\", \"Fraud\"], fontsize=12)\n",
    "plt.yticks(ticks=[0.5, 1.5], labels=[\"Not Fraud\", \"Fraud\"], fontsize=12)\n",
    "plt.show()"
   ]
  },
  {
   "cell_type": "markdown",
   "metadata": {},
   "source": [
    "We can see that when we use 1:1 data is better than 1:2, the accurancy and ROC is better. Therefore, we are going to use 1:1 to fit all the model below. "
   ]
  },
  {
   "cell_type": "code",
   "execution_count": 69,
   "metadata": {},
   "outputs": [],
   "source": [
    "train_x = balanced_train_df_1.drop([\"is_fraud\"], axis = 1)\n",
    "train_y = balanced_train_df_1[\"is_fraud\"]\n",
    "\n",
    "test_x = balanced_test_df_1.drop([\"is_fraud\"], axis = 1)\n",
    "test_y = balanced_test_df_1[\"is_fraud\"]\n",
    "\n",
    "sc = StandardScaler()\n",
    "sc_X_train = sc.fit_transform(train_x)\n",
    "sc_X_test = sc.transform(test_x)\n",
    "\n",
    "lda = LDA(n_components = 1)\n",
    "X_train_lda = lda.fit_transform(sc_X_train, train_y)\n",
    "X_test_lda = lda.transform(sc_X_test)"
   ]
  },
  {
   "cell_type": "markdown",
   "metadata": {},
   "source": [
    "SVC MODEL"
   ]
  },
  {
   "cell_type": "code",
   "execution_count": 70,
   "metadata": {},
   "outputs": [
    {
     "name": "stdout",
     "output_type": "stream",
     "text": [
      "Accuracy with best C values: 0.86\n"
     ]
    }
   ],
   "source": [
    "from sklearn import datasets\n",
    "from sklearn import svm\n",
    "\n",
    "\n",
    "clf = svm.SVC(kernel='linear', C=1).fit(sc_X_train, train_y)\n",
    "\n",
    "params_grid = {\n",
    "    'C':  [0.1, 1, 10],\n",
    "    'gamma': [0.01, 0.1],\n",
    "    'kernel': ['linear', 'rbf']\n",
    "}\n",
    "\n",
    "grid_clf = GridSearchCV(estimator = SVC(), param_grid = params_grid)\n",
    "grid_clf.fit(sc_X_train, train_y)\n",
    "\n",
    "best_C = grid_clf.best_params_['C']\n",
    "best_gamma = grid_clf.best_params_['gamma']\n",
    "best_kernel = grid_clf.best_params_['kernel']\n",
    "\n",
    "\n",
    "accuracy = clf.score(sc_X_test, test_y)\n",
    "print(f\"Accuracy with best C values: {accuracy:.2f}\")"
   ]
  },
  {
   "cell_type": "code",
   "execution_count": 71,
   "metadata": {},
   "outputs": [
    {
     "name": "stdout",
     "output_type": "stream",
     "text": [
      "best c is 0.1\n",
      "best gamma is 0.01\n",
      "best kernel is linear\n"
     ]
    }
   ],
   "source": [
    "print(f\"best c is {best_C}\")\n",
    "print(f\"best gamma is {best_gamma}\")\n",
    "print(f\"best kernel is {best_kernel}\")"
   ]
  },
  {
   "cell_type": "markdown",
   "metadata": {},
   "source": [
    "DT MODEL"
   ]
  },
  {
   "cell_type": "code",
   "execution_count": 72,
   "metadata": {},
   "outputs": [
    {
     "name": "stdout",
     "output_type": "stream",
     "text": [
      "Accuracy with the optimal parameter values: 0.81\n"
     ]
    }
   ],
   "source": [
    "from sklearn import datasets\n",
    "from sklearn.tree import DecisionTreeClassifier as dt\n",
    "\n",
    "clf = dt(random_state= 42).fit(sc_X_train, train_y)\n",
    "\n",
    "params_grid = {\n",
    "    'criterion' : ['gini', 'entropy'],\n",
    "    'max_depth' : range(2, 10), \n",
    "    'min_samples_leaf' : range(2, 10),\n",
    "    'min_samples_split' : range(2, 10)\n",
    "}\n",
    "\n",
    "grid_clf = GridSearchCV(estimator = dt(random_state = 42), param_grid = params_grid)\n",
    "grid_clf.fit(sc_X_train, train_y)\n",
    "\n",
    "best_criterion = grid_clf.best_params_['criterion']\n",
    "best_depth = grid_clf.best_params_['max_depth']\n",
    "best_leaf = grid_clf.best_params_['min_samples_leaf']\n",
    "best_split = grid_clf.best_params_['min_samples_split']\n",
    "\n",
    "accuracy = clf.score(sc_X_test, test_y)\n",
    "print(f\"Accuracy with the optimal parameter values: {accuracy:.2f}\")"
   ]
  },
  {
   "cell_type": "code",
   "execution_count": 73,
   "metadata": {},
   "outputs": [
    {
     "name": "stdout",
     "output_type": "stream",
     "text": [
      "best criterion : gini\n",
      "best depth : 3\n",
      "best leaf : 2\n",
      "best split : 2\n"
     ]
    }
   ],
   "source": [
    "print(f\"best criterion : {best_criterion}\")\n",
    "print(f\"best depth : {best_depth}\")\n",
    "print(f\"best leaf : {best_leaf}\")\n",
    "print(f\"best split : {best_split}\")"
   ]
  },
  {
   "cell_type": "markdown",
   "metadata": {},
   "source": [
    "KNN MODEL"
   ]
  },
  {
   "cell_type": "code",
   "execution_count": 91,
   "metadata": {},
   "outputs": [
    {
     "data": {
      "image/png": "[encoded data removed]",
      "text/plain": [
       "<Figure size 640x480 with 1 Axes>"
      ]
     },
     "metadata": {},
     "output_type": "display_data"
    }
   ],
   "source": [
    "from sklearn.metrics import accuracy_score\n",
    "\n",
    "k_range = list(range(1, 101))\n",
    "scores = []\n",
    "for i in k_range:\n",
    "    knn = KNN(n_neighbors = i)\n",
    "    knn.fit(sc_X_train,train_y)\n",
    "    y_pred = knn.predict(sc_X_test)\n",
    "    scores.append(accuracy_score(test_y, y_pred))\n",
    "\n",
    "plt.plot(k_range, scores)\n",
    "plt.show()"
   ]
  },
  {
   "cell_type": "code",
   "execution_count": 89,
   "metadata": {},
   "outputs": [
    {
     "name": "stdout",
     "output_type": "stream",
     "text": [
      "Best scores is 0.7526806526806527\n",
      "Best k is 48\n"
     ]
    }
   ],
   "source": [
    "best_k = 0\n",
    "best_scores = 0\n",
    "for i in range(0, len(scores)):\n",
    "    if scores[i] > best_scores:\n",
    "        best_scores = scores[i]\n",
    "        best_k = i\n",
    " \n",
    "print(f\"Best scores is {best_scores}\")\n",
    "print(f\"Best k is {best_k}\")\n"
   ]
  },
  {
   "cell_type": "code",
   "execution_count": 90,
   "metadata": {},
   "outputs": [
    {
     "data": {
      "text/plain": [
       "[0.6920745920745921,\n",
       " 0.706993006993007,\n",
       " 0.7114219114219115,\n",
       " 0.7205128205128205,\n",
       " 0.713986013986014,\n",
       " 0.7230769230769231,\n",
       " 0.7188811188811188,\n",
       " 0.73006993006993,\n",
       " 0.7172494172494173,\n",
       " 0.7303030303030303,\n",
       " 0.7298368298368298,\n",
       " 0.735897435897436,\n",
       " 0.7298368298368298,\n",
       " 0.7354312354312355,\n",
       " 0.7384615384615385,\n",
       " 0.7377622377622378,\n",
       " 0.7351981351981351,\n",
       " 0.7384615384615385,\n",
       " 0.7356643356643356,\n",
       " 0.7389277389277389,\n",
       " 0.7417249417249417,\n",
       " 0.7382284382284382,\n",
       " 0.7407925407925408,\n",
       " 0.7438228438228438,\n",
       " 0.744988344988345,\n",
       " 0.7461538461538462,\n",
       " 0.745920745920746,\n",
       " 0.7482517482517482,\n",
       " 0.7487179487179487,\n",
       " 0.7463869463869464,\n",
       " 0.7477855477855477,\n",
       " 0.7452214452214452,\n",
       " 0.7503496503496504,\n",
       " 0.7494172494172494,\n",
       " 0.7501165501165501,\n",
       " 0.745920745920746,\n",
       " 0.7484848484848485,\n",
       " 0.7468531468531469,\n",
       " 0.7496503496503496,\n",
       " 0.7484848484848485,\n",
       " 0.7487179487179487,\n",
       " 0.7489510489510489,\n",
       " 0.7512820512820513,\n",
       " 0.7484848484848485,\n",
       " 0.751981351981352,\n",
       " 0.7482517482517482,\n",
       " 0.7524475524475525,\n",
       " 0.7505827505827506,\n",
       " 0.7526806526806527,\n",
       " 0.7508158508158508]"
      ]
     },
     "execution_count": 90,
     "metadata": {},
     "output_type": "execute_result"
    }
   ],
   "source": [
    "scores"
   ]
  }
 ],
 "metadata": {
  "kernelspec": {
   "display_name": "Python 3",
   "language": "python",
   "name": "python3"
  },
  "language_info": {
   "codemirror_mode": {
    "name": "ipython",
    "version": 3
   },
   "file_extension": ".py",
   "mimetype": "text/x-python",
   "name": "python",
   "nbconvert_exporter": "python",
   "pygments_lexer": "ipython3",
   "version": "3.12.0"
  }
 },
 "nbformat": 4,
 "nbformat_minor": 2
}
